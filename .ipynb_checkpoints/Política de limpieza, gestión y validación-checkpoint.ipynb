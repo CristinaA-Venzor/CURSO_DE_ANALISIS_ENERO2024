{
 "cells": [
  {
   "cell_type": "markdown",
   "id": "01a41c81-f0cc-48a8-bdec-ee94e34cdb2d",
   "metadata": {},
   "source": [
    "# Política de limpieza, gestión y validación"
   ]
  },
  {
   "cell_type": "markdown",
   "id": "ed7f4dbb-5923-4fbe-9ad6-3aca1cd543f8",
   "metadata": {},
   "source": [
    "## A) Documentación de metadatos"
   ]
  },
  {
   "cell_type": "code",
   "execution_count": null,
   "id": "03d230bb",
   "metadata": {},
   "outputs": [],
   "source": [
    "#Para descargar librería elimine el signo de \"#\" y corra la linea\n",
    "#Esto es necesario sólo la primera vez que se utiliza en esta computadora\n",
    "\n",
    "#pip install pandas"
   ]
  },
  {
   "cell_type": "code",
   "execution_count": null,
   "id": "528e5d9f",
   "metadata": {},
   "outputs": [],
   "source": [
    "#Para descargar librería elimine el signo de \"#\" y corra la linea\n",
    "#Esto es necesario sólo la primera vez que se utiliza en esta computadora\n",
    "\n",
    "#pip install numpy"
   ]
  },
  {
   "cell_type": "code",
   "execution_count": null,
   "id": "ffc13a64",
   "metadata": {},
   "outputs": [],
   "source": [
    "#Para descargar librería elimine el signo de \"#\" y corra la linea\n",
    "#Esto es necesario sólo la primera vez que se utiliza en esta computadora\n",
    "\n",
    "#pip install sweetviz"
   ]
  },
  {
   "cell_type": "code",
   "execution_count": 1,
   "id": "c1ac1438",
   "metadata": {},
   "outputs": [],
   "source": [
    "# cagramos librerías\n",
    "\n",
    "import pandas as pd\n",
    "import numpy as np\n",
    "import sweetviz as sv"
   ]
  },
  {
   "cell_type": "code",
   "execution_count": 14,
   "id": "859c7a72-7169-4e69-a7c3-50c9f28c2f83",
   "metadata": {},
   "outputs": [
    {
     "data": {
      "text/html": [
       "<div>\n",
       "<style scoped>\n",
       "    .dataframe tbody tr th:only-of-type {\n",
       "        vertical-align: middle;\n",
       "    }\n",
       "\n",
       "    .dataframe tbody tr th {\n",
       "        vertical-align: top;\n",
       "    }\n",
       "\n",
       "    .dataframe thead th {\n",
       "        text-align: right;\n",
       "    }\n",
       "</style>\n",
       "<table border=\"1\" class=\"dataframe\">\n",
       "  <thead>\n",
       "    <tr style=\"text-align: right;\">\n",
       "      <th></th>\n",
       "      <th>anio_hecho</th>\n",
       "      <th>mes_hecho</th>\n",
       "      <th>fecha_hecho</th>\n",
       "      <th>hora_hecho</th>\n",
       "      <th>delito</th>\n",
       "      <th>categoria</th>\n",
       "      <th>sexo</th>\n",
       "      <th>edad</th>\n",
       "      <th>tipo_persona</th>\n",
       "      <th>calidad_juridica</th>\n",
       "      <th>...</th>\n",
       "      <th>anio_inicio</th>\n",
       "      <th>mes_inicio</th>\n",
       "      <th>fecha_inicio</th>\n",
       "      <th>hora_inicio</th>\n",
       "      <th>colonia_catalogo</th>\n",
       "      <th>colonia_hecho</th>\n",
       "      <th>alcaldia_hecho</th>\n",
       "      <th>municipio_hecho</th>\n",
       "      <th>latitud</th>\n",
       "      <th>longitud</th>\n",
       "    </tr>\n",
       "  </thead>\n",
       "  <tbody>\n",
       "    <tr>\n",
       "      <th>0</th>\n",
       "      <td>2022.0</td>\n",
       "      <td>Diciembre</td>\n",
       "      <td>2022-12-31</td>\n",
       "      <td>22:08:00</td>\n",
       "      <td>LESIONES CULPOSAS POR TRANSITO VEHICULAR EN CO...</td>\n",
       "      <td>DELITO DE BAJO IMPACTO</td>\n",
       "      <td>NaN</td>\n",
       "      <td>NaN</td>\n",
       "      <td>MORAL</td>\n",
       "      <td>OFENDIDO</td>\n",
       "      <td>...</td>\n",
       "      <td>2023</td>\n",
       "      <td>Enero</td>\n",
       "      <td>2023-01-01</td>\n",
       "      <td>00:09:00</td>\n",
       "      <td>INSURGENTES CUICUILCO</td>\n",
       "      <td>INSURGENTES CUICUILCO</td>\n",
       "      <td>COYOACAN</td>\n",
       "      <td>CDMX</td>\n",
       "      <td>19.305532</td>\n",
       "      <td>-99.186308</td>\n",
       "    </tr>\n",
       "    <tr>\n",
       "      <th>1</th>\n",
       "      <td>2022.0</td>\n",
       "      <td>Diciembre</td>\n",
       "      <td>2022-12-31</td>\n",
       "      <td>23:50:00</td>\n",
       "      <td>ROBO A TRANSEUNTE EN VIA PUBLICA CON VIOLENCIA</td>\n",
       "      <td>ROBO A TRANSEUNTE EN VÍA PÚBLICA CON Y SIN VIO...</td>\n",
       "      <td>Masculino</td>\n",
       "      <td>50.0</td>\n",
       "      <td>FISICA</td>\n",
       "      <td>VICTIMA Y DENUNCIANTE</td>\n",
       "      <td>...</td>\n",
       "      <td>2023</td>\n",
       "      <td>Enero</td>\n",
       "      <td>2023-01-01</td>\n",
       "      <td>00:41:00</td>\n",
       "      <td>MOCTEZUMA 2A SECCION IV</td>\n",
       "      <td>MOCTEZUMA 2A SECCIÓN</td>\n",
       "      <td>VENUSTIANO CARRANZA</td>\n",
       "      <td>CDMX</td>\n",
       "      <td>19.429797</td>\n",
       "      <td>-99.098672</td>\n",
       "    </tr>\n",
       "    <tr>\n",
       "      <th>2</th>\n",
       "      <td>2022.0</td>\n",
       "      <td>Diciembre</td>\n",
       "      <td>2022-12-31</td>\n",
       "      <td>20:30:00</td>\n",
       "      <td>ROBO DE VEHICULO DE SERVICIO PARTICULAR CON VI...</td>\n",
       "      <td>ROBO DE VEHÍCULO CON Y SIN VIOLENCIA</td>\n",
       "      <td>Masculino</td>\n",
       "      <td>34.0</td>\n",
       "      <td>FISICA</td>\n",
       "      <td>VICTIMA Y DENUNCIANTE</td>\n",
       "      <td>...</td>\n",
       "      <td>2023</td>\n",
       "      <td>Enero</td>\n",
       "      <td>2023-01-01</td>\n",
       "      <td>00:44:00</td>\n",
       "      <td>SAN JUAN DE ARAGON 3A SECCION (U HAB) I</td>\n",
       "      <td>SAN JUAN DE ARAGÓN III SECCIÓN</td>\n",
       "      <td>GUSTAVO A. MADERO</td>\n",
       "      <td>CDMX</td>\n",
       "      <td>19.451641</td>\n",
       "      <td>-99.076529</td>\n",
       "    </tr>\n",
       "    <tr>\n",
       "      <th>3</th>\n",
       "      <td>2022.0</td>\n",
       "      <td>Diciembre</td>\n",
       "      <td>2022-12-31</td>\n",
       "      <td>23:30:00</td>\n",
       "      <td>LESIONES CULPOSAS POR TRANSITO VEHICULAR EN CO...</td>\n",
       "      <td>DELITO DE BAJO IMPACTO</td>\n",
       "      <td>Masculino</td>\n",
       "      <td>NaN</td>\n",
       "      <td>FISICA</td>\n",
       "      <td>LESIONADO</td>\n",
       "      <td>...</td>\n",
       "      <td>2023</td>\n",
       "      <td>Enero</td>\n",
       "      <td>2023-01-01</td>\n",
       "      <td>00:47:00</td>\n",
       "      <td>XOTEPINGO</td>\n",
       "      <td>XOTEPINGO</td>\n",
       "      <td>COYOACAN</td>\n",
       "      <td>CDMX</td>\n",
       "      <td>19.323245</td>\n",
       "      <td>-99.138016</td>\n",
       "    </tr>\n",
       "    <tr>\n",
       "      <th>4</th>\n",
       "      <td>2022.0</td>\n",
       "      <td>Diciembre</td>\n",
       "      <td>2022-12-31</td>\n",
       "      <td>10:30:00</td>\n",
       "      <td>PERDIDA DE LA VIDA POR OTRAS CAUSAS</td>\n",
       "      <td>HECHO NO DELICTIVO</td>\n",
       "      <td>Masculino</td>\n",
       "      <td>90.0</td>\n",
       "      <td>FISICA</td>\n",
       "      <td>CADAVER</td>\n",
       "      <td>...</td>\n",
       "      <td>2023</td>\n",
       "      <td>Enero</td>\n",
       "      <td>2023-01-01</td>\n",
       "      <td>00:56:00</td>\n",
       "      <td>NaN</td>\n",
       "      <td>NaN</td>\n",
       "      <td>GUSTAVO A. MADERO</td>\n",
       "      <td>CDMX</td>\n",
       "      <td>NaN</td>\n",
       "      <td>NaN</td>\n",
       "    </tr>\n",
       "  </tbody>\n",
       "</table>\n",
       "<p>5 rows × 21 columns</p>\n",
       "</div>"
      ],
      "text/plain": [
       "   anio_hecho  mes_hecho fecha_hecho hora_hecho  \\\n",
       "0      2022.0  Diciembre  2022-12-31   22:08:00   \n",
       "1      2022.0  Diciembre  2022-12-31   23:50:00   \n",
       "2      2022.0  Diciembre  2022-12-31   20:30:00   \n",
       "3      2022.0  Diciembre  2022-12-31   23:30:00   \n",
       "4      2022.0  Diciembre  2022-12-31   10:30:00   \n",
       "\n",
       "                                              delito  \\\n",
       "0  LESIONES CULPOSAS POR TRANSITO VEHICULAR EN CO...   \n",
       "1     ROBO A TRANSEUNTE EN VIA PUBLICA CON VIOLENCIA   \n",
       "2  ROBO DE VEHICULO DE SERVICIO PARTICULAR CON VI...   \n",
       "3  LESIONES CULPOSAS POR TRANSITO VEHICULAR EN CO...   \n",
       "4                PERDIDA DE LA VIDA POR OTRAS CAUSAS   \n",
       "\n",
       "                                           categoria       sexo  edad  \\\n",
       "0                             DELITO DE BAJO IMPACTO        NaN   NaN   \n",
       "1  ROBO A TRANSEUNTE EN VÍA PÚBLICA CON Y SIN VIO...  Masculino  50.0   \n",
       "2               ROBO DE VEHÍCULO CON Y SIN VIOLENCIA  Masculino  34.0   \n",
       "3                             DELITO DE BAJO IMPACTO  Masculino   NaN   \n",
       "4                                 HECHO NO DELICTIVO  Masculino  90.0   \n",
       "\n",
       "  tipo_persona       calidad_juridica  ... anio_inicio  mes_inicio  \\\n",
       "0        MORAL               OFENDIDO  ...        2023       Enero   \n",
       "1       FISICA  VICTIMA Y DENUNCIANTE  ...        2023       Enero   \n",
       "2       FISICA  VICTIMA Y DENUNCIANTE  ...        2023       Enero   \n",
       "3       FISICA              LESIONADO  ...        2023       Enero   \n",
       "4       FISICA                CADAVER  ...        2023       Enero   \n",
       "\n",
       "  fecha_inicio hora_inicio                         colonia_catalogo  \\\n",
       "0   2023-01-01    00:09:00                    INSURGENTES CUICUILCO   \n",
       "1   2023-01-01    00:41:00                  MOCTEZUMA 2A SECCION IV   \n",
       "2   2023-01-01    00:44:00  SAN JUAN DE ARAGON 3A SECCION (U HAB) I   \n",
       "3   2023-01-01    00:47:00                                XOTEPINGO   \n",
       "4   2023-01-01    00:56:00                                      NaN   \n",
       "\n",
       "                    colonia_hecho       alcaldia_hecho municipio_hecho  \\\n",
       "0           INSURGENTES CUICUILCO             COYOACAN            CDMX   \n",
       "1            MOCTEZUMA 2A SECCIÓN  VENUSTIANO CARRANZA            CDMX   \n",
       "2  SAN JUAN DE ARAGÓN III SECCIÓN    GUSTAVO A. MADERO            CDMX   \n",
       "3                       XOTEPINGO             COYOACAN            CDMX   \n",
       "4                             NaN    GUSTAVO A. MADERO            CDMX   \n",
       "\n",
       "     latitud   longitud  \n",
       "0  19.305532 -99.186308  \n",
       "1  19.429797 -99.098672  \n",
       "2  19.451641 -99.076529  \n",
       "3  19.323245 -99.138016  \n",
       "4        NaN        NaN  \n",
       "\n",
       "[5 rows x 21 columns]"
      ]
     },
     "execution_count": 14,
     "metadata": {},
     "output_type": "execute_result"
    }
   ],
   "source": [
    "#Cargo base de datos desde el repositorio\n",
    "datos = pd.read_csv(\"https://raw.githubusercontent.com/CristinaA-Venzor/CURSO_DE_ANALISIS_ENERO2024/main/victimasFGJ_2023.csv\")\n",
    "#Muestro las 5 primeras filas\n",
    "datos.head()"
   ]
  },
  {
   "cell_type": "code",
   "execution_count": 3,
   "id": "d6acd982",
   "metadata": {},
   "outputs": [
    {
     "data": {
      "application/vnd.jupyter.widget-view+json": {
       "model_id": "7440f079917141d5b77314f1cca2fad1",
       "version_major": 2,
       "version_minor": 0
      },
      "text/plain": [
       "                                             |      | [  0%]   00:00 -> (? left)"
      ]
     },
     "metadata": {},
     "output_type": "display_data"
    }
   ],
   "source": [
    "#Genero el reporte de metadatos\n",
    "analyze_report = sv.analyze(datos)"
   ]
  },
  {
   "cell_type": "code",
   "execution_count": 20,
   "id": "e671f7b0",
   "metadata": {},
   "outputs": [
    {
     "name": "stdout",
     "output_type": "stream",
     "text": [
      "Report report.html was generated! NOTEBOOK/COLAB USERS: the web browser MAY not pop up, regardless, the report IS saved in your notebook/colab files.\n"
     ]
    }
   ],
   "source": [
    "#Visualizamos el archivo .htlm que nos genera el reporte\n",
    "#puedes revisar en la carpeta de tu computadora que ese archivo está guardado\n",
    "analyze_report.show_html('report.html', open_browser=True)"
   ]
  },
  {
   "cell_type": "code",
   "execution_count": 11,
   "id": "e03b3c67",
   "metadata": {
    "scrolled": true
   },
   "outputs": [
    {
     "data": {
      "text/plain": [
       "Index(['anio_hecho', 'mes_hecho', 'fecha_hecho', 'hora_hecho', 'delito',\n",
       "       'categoria', 'sexo', 'edad', 'tipo_persona', 'calidad_juridica',\n",
       "       'competencia', 'anio_inicio', 'mes_inicio', 'fecha_inicio',\n",
       "       'hora_inicio', 'colonia_catalogo', 'colonia_hecho', 'alcaldia_hecho',\n",
       "       'municipio_hecho', 'latitud', 'longitud'],\n",
       "      dtype='object')"
      ]
     },
     "execution_count": 11,
     "metadata": {},
     "output_type": "execute_result"
    }
   ],
   "source": [
    "#reviso el nombre de todas las columnas\n",
    "datos.columns"
   ]
  },
  {
   "cell_type": "code",
   "execution_count": 15,
   "id": "71247e0c-4810-47b1-82f6-12a313fe49e5",
   "metadata": {},
   "outputs": [
    {
     "data": {
      "text/plain": [
       "(194122, 21)"
      ]
     },
     "execution_count": 15,
     "metadata": {},
     "output_type": "execute_result"
    }
   ],
   "source": [
    "#revisamos dimensiones de la base de datos\n",
    "datos.shape"
   ]
  },
  {
   "cell_type": "markdown",
   "id": "06f3376c",
   "metadata": {},
   "source": [
    "## Ejercicio de metadatos\n",
    "\n",
    "Responde las siguientes preguntas en un documento de word con base en los metadatos generados\n",
    "\n",
    "1) ¿Cuál es la columna con más información faltante?\n",
    "2) ¿Cuál es la columna que nos permite identificar el tipo de delito? ¿Cuál es el más frecuente?\n",
    "3) ¿En qué alcaldía se cometieron más delitos? ¿Qué columna nos ayuda a idnetificar esto? ¿Por qué?\n",
    "4) ¿Qué otra información valiosa nos aportan los meta-datos?"
   ]
  },
  {
   "cell_type": "markdown",
   "id": "bc2cfd62",
   "metadata": {},
   "source": [
    "## b) Limpieza de datos"
   ]
  },
  {
   "cell_type": "markdown",
   "id": "192bbdd2-5b59-408e-97c3-2059efef1a6f",
   "metadata": {},
   "source": [
    "### b.1) Eliminar datos repetidos "
   ]
  },
  {
   "cell_type": "code",
   "execution_count": 16,
   "id": "1c57a58c-d295-4894-98e4-bdca8500ba68",
   "metadata": {},
   "outputs": [
    {
     "data": {
      "text/plain": [
       "(192469, 21)"
      ]
     },
     "execution_count": 16,
     "metadata": {},
     "output_type": "execute_result"
    }
   ],
   "source": [
    "#reviso si hay duplicados con base en idCarpeta, no me quedo con los duplicados\n",
    "datos = datos.drop_duplicates()\n",
    "#Vuelvo a revisar la dimensionalidad de mi base de datos\n",
    "datos.shape"
   ]
  },
  {
   "cell_type": "markdown",
   "id": "356f4d3f-4710-42bc-b3ef-e63d3a8a125d",
   "metadata": {},
   "source": [
    "### b.2) Imputación de datos\n",
    "\n",
    "La aparición de datos faltantes es un problema común en la mayoría de\n",
    "las encuestas llevadas a cabo en distintos ámbitos. El método más sencillo de imputación de datos es establecer el promedio de los valores existentes.\n",
    "\n",
    "Esto se realiza con el siguiente:"
   ]
  },
  {
   "cell_type": "code",
   "execution_count": 17,
   "id": "8038d649-6743-4b60-b80c-0945c44f3074",
   "metadata": {},
   "outputs": [
    {
     "name": "stdout",
     "output_type": "stream",
     "text": [
      "Datos faltantes en la columna Edad: 58036, con media: 38.777495109087795\n"
     ]
    }
   ],
   "source": [
    "#sumo los datos faltantes de la colulma edad\n",
    "datos_faltantes = datos['edad'].isnull().sum()\n",
    "#calculo el promedio de edad\n",
    "media = datos[\"edad\"].mean()\n",
    "#devuelo como resultado la suma y la media\n",
    "print(f\"Datos faltantes en la columna Edad: {datos_faltantes}, con media: {media}\")"
   ]
  },
  {
   "cell_type": "code",
   "execution_count": 18,
   "id": "3562afad-fc19-4a05-ae3f-4e025964157b",
   "metadata": {},
   "outputs": [
    {
     "data": {
      "text/html": [
       "<div>\n",
       "<style scoped>\n",
       "    .dataframe tbody tr th:only-of-type {\n",
       "        vertical-align: middle;\n",
       "    }\n",
       "\n",
       "    .dataframe tbody tr th {\n",
       "        vertical-align: top;\n",
       "    }\n",
       "\n",
       "    .dataframe thead th {\n",
       "        text-align: right;\n",
       "    }\n",
       "</style>\n",
       "<table border=\"1\" class=\"dataframe\">\n",
       "  <thead>\n",
       "    <tr style=\"text-align: right;\">\n",
       "      <th></th>\n",
       "      <th>anio_hecho</th>\n",
       "      <th>mes_hecho</th>\n",
       "      <th>fecha_hecho</th>\n",
       "      <th>hora_hecho</th>\n",
       "      <th>delito</th>\n",
       "      <th>categoria</th>\n",
       "      <th>sexo</th>\n",
       "      <th>edad</th>\n",
       "      <th>tipo_persona</th>\n",
       "      <th>calidad_juridica</th>\n",
       "      <th>...</th>\n",
       "      <th>anio_inicio</th>\n",
       "      <th>mes_inicio</th>\n",
       "      <th>fecha_inicio</th>\n",
       "      <th>hora_inicio</th>\n",
       "      <th>colonia_catalogo</th>\n",
       "      <th>colonia_hecho</th>\n",
       "      <th>alcaldia_hecho</th>\n",
       "      <th>municipio_hecho</th>\n",
       "      <th>latitud</th>\n",
       "      <th>longitud</th>\n",
       "    </tr>\n",
       "  </thead>\n",
       "  <tbody>\n",
       "    <tr>\n",
       "      <th>0</th>\n",
       "      <td>2022.0</td>\n",
       "      <td>Diciembre</td>\n",
       "      <td>2022-12-31</td>\n",
       "      <td>22:08:00</td>\n",
       "      <td>LESIONES CULPOSAS POR TRANSITO VEHICULAR EN CO...</td>\n",
       "      <td>DELITO DE BAJO IMPACTO</td>\n",
       "      <td>NaN</td>\n",
       "      <td>38.777495</td>\n",
       "      <td>MORAL</td>\n",
       "      <td>OFENDIDO</td>\n",
       "      <td>...</td>\n",
       "      <td>2023</td>\n",
       "      <td>Enero</td>\n",
       "      <td>2023-01-01</td>\n",
       "      <td>00:09:00</td>\n",
       "      <td>INSURGENTES CUICUILCO</td>\n",
       "      <td>INSURGENTES CUICUILCO</td>\n",
       "      <td>COYOACAN</td>\n",
       "      <td>CDMX</td>\n",
       "      <td>19.305532</td>\n",
       "      <td>-99.186308</td>\n",
       "    </tr>\n",
       "    <tr>\n",
       "      <th>1</th>\n",
       "      <td>2022.0</td>\n",
       "      <td>Diciembre</td>\n",
       "      <td>2022-12-31</td>\n",
       "      <td>23:50:00</td>\n",
       "      <td>ROBO A TRANSEUNTE EN VIA PUBLICA CON VIOLENCIA</td>\n",
       "      <td>ROBO A TRANSEUNTE EN VÍA PÚBLICA CON Y SIN VIO...</td>\n",
       "      <td>Masculino</td>\n",
       "      <td>50.000000</td>\n",
       "      <td>FISICA</td>\n",
       "      <td>VICTIMA Y DENUNCIANTE</td>\n",
       "      <td>...</td>\n",
       "      <td>2023</td>\n",
       "      <td>Enero</td>\n",
       "      <td>2023-01-01</td>\n",
       "      <td>00:41:00</td>\n",
       "      <td>MOCTEZUMA 2A SECCION IV</td>\n",
       "      <td>MOCTEZUMA 2A SECCIÓN</td>\n",
       "      <td>VENUSTIANO CARRANZA</td>\n",
       "      <td>CDMX</td>\n",
       "      <td>19.429797</td>\n",
       "      <td>-99.098672</td>\n",
       "    </tr>\n",
       "    <tr>\n",
       "      <th>2</th>\n",
       "      <td>2022.0</td>\n",
       "      <td>Diciembre</td>\n",
       "      <td>2022-12-31</td>\n",
       "      <td>20:30:00</td>\n",
       "      <td>ROBO DE VEHICULO DE SERVICIO PARTICULAR CON VI...</td>\n",
       "      <td>ROBO DE VEHÍCULO CON Y SIN VIOLENCIA</td>\n",
       "      <td>Masculino</td>\n",
       "      <td>34.000000</td>\n",
       "      <td>FISICA</td>\n",
       "      <td>VICTIMA Y DENUNCIANTE</td>\n",
       "      <td>...</td>\n",
       "      <td>2023</td>\n",
       "      <td>Enero</td>\n",
       "      <td>2023-01-01</td>\n",
       "      <td>00:44:00</td>\n",
       "      <td>SAN JUAN DE ARAGON 3A SECCION (U HAB) I</td>\n",
       "      <td>SAN JUAN DE ARAGÓN III SECCIÓN</td>\n",
       "      <td>GUSTAVO A. MADERO</td>\n",
       "      <td>CDMX</td>\n",
       "      <td>19.451641</td>\n",
       "      <td>-99.076529</td>\n",
       "    </tr>\n",
       "    <tr>\n",
       "      <th>3</th>\n",
       "      <td>2022.0</td>\n",
       "      <td>Diciembre</td>\n",
       "      <td>2022-12-31</td>\n",
       "      <td>23:30:00</td>\n",
       "      <td>LESIONES CULPOSAS POR TRANSITO VEHICULAR EN CO...</td>\n",
       "      <td>DELITO DE BAJO IMPACTO</td>\n",
       "      <td>Masculino</td>\n",
       "      <td>38.777495</td>\n",
       "      <td>FISICA</td>\n",
       "      <td>LESIONADO</td>\n",
       "      <td>...</td>\n",
       "      <td>2023</td>\n",
       "      <td>Enero</td>\n",
       "      <td>2023-01-01</td>\n",
       "      <td>00:47:00</td>\n",
       "      <td>XOTEPINGO</td>\n",
       "      <td>XOTEPINGO</td>\n",
       "      <td>COYOACAN</td>\n",
       "      <td>CDMX</td>\n",
       "      <td>19.323245</td>\n",
       "      <td>-99.138016</td>\n",
       "    </tr>\n",
       "    <tr>\n",
       "      <th>4</th>\n",
       "      <td>2022.0</td>\n",
       "      <td>Diciembre</td>\n",
       "      <td>2022-12-31</td>\n",
       "      <td>10:30:00</td>\n",
       "      <td>PERDIDA DE LA VIDA POR OTRAS CAUSAS</td>\n",
       "      <td>HECHO NO DELICTIVO</td>\n",
       "      <td>Masculino</td>\n",
       "      <td>90.000000</td>\n",
       "      <td>FISICA</td>\n",
       "      <td>CADAVER</td>\n",
       "      <td>...</td>\n",
       "      <td>2023</td>\n",
       "      <td>Enero</td>\n",
       "      <td>2023-01-01</td>\n",
       "      <td>00:56:00</td>\n",
       "      <td>NaN</td>\n",
       "      <td>NaN</td>\n",
       "      <td>GUSTAVO A. MADERO</td>\n",
       "      <td>CDMX</td>\n",
       "      <td>NaN</td>\n",
       "      <td>NaN</td>\n",
       "    </tr>\n",
       "  </tbody>\n",
       "</table>\n",
       "<p>5 rows × 21 columns</p>\n",
       "</div>"
      ],
      "text/plain": [
       "   anio_hecho  mes_hecho fecha_hecho hora_hecho  \\\n",
       "0      2022.0  Diciembre  2022-12-31   22:08:00   \n",
       "1      2022.0  Diciembre  2022-12-31   23:50:00   \n",
       "2      2022.0  Diciembre  2022-12-31   20:30:00   \n",
       "3      2022.0  Diciembre  2022-12-31   23:30:00   \n",
       "4      2022.0  Diciembre  2022-12-31   10:30:00   \n",
       "\n",
       "                                              delito  \\\n",
       "0  LESIONES CULPOSAS POR TRANSITO VEHICULAR EN CO...   \n",
       "1     ROBO A TRANSEUNTE EN VIA PUBLICA CON VIOLENCIA   \n",
       "2  ROBO DE VEHICULO DE SERVICIO PARTICULAR CON VI...   \n",
       "3  LESIONES CULPOSAS POR TRANSITO VEHICULAR EN CO...   \n",
       "4                PERDIDA DE LA VIDA POR OTRAS CAUSAS   \n",
       "\n",
       "                                           categoria       sexo       edad  \\\n",
       "0                             DELITO DE BAJO IMPACTO        NaN  38.777495   \n",
       "1  ROBO A TRANSEUNTE EN VÍA PÚBLICA CON Y SIN VIO...  Masculino  50.000000   \n",
       "2               ROBO DE VEHÍCULO CON Y SIN VIOLENCIA  Masculino  34.000000   \n",
       "3                             DELITO DE BAJO IMPACTO  Masculino  38.777495   \n",
       "4                                 HECHO NO DELICTIVO  Masculino  90.000000   \n",
       "\n",
       "  tipo_persona       calidad_juridica  ... anio_inicio  mes_inicio  \\\n",
       "0        MORAL               OFENDIDO  ...        2023       Enero   \n",
       "1       FISICA  VICTIMA Y DENUNCIANTE  ...        2023       Enero   \n",
       "2       FISICA  VICTIMA Y DENUNCIANTE  ...        2023       Enero   \n",
       "3       FISICA              LESIONADO  ...        2023       Enero   \n",
       "4       FISICA                CADAVER  ...        2023       Enero   \n",
       "\n",
       "  fecha_inicio hora_inicio                         colonia_catalogo  \\\n",
       "0   2023-01-01    00:09:00                    INSURGENTES CUICUILCO   \n",
       "1   2023-01-01    00:41:00                  MOCTEZUMA 2A SECCION IV   \n",
       "2   2023-01-01    00:44:00  SAN JUAN DE ARAGON 3A SECCION (U HAB) I   \n",
       "3   2023-01-01    00:47:00                                XOTEPINGO   \n",
       "4   2023-01-01    00:56:00                                      NaN   \n",
       "\n",
       "                    colonia_hecho       alcaldia_hecho municipio_hecho  \\\n",
       "0           INSURGENTES CUICUILCO             COYOACAN            CDMX   \n",
       "1            MOCTEZUMA 2A SECCIÓN  VENUSTIANO CARRANZA            CDMX   \n",
       "2  SAN JUAN DE ARAGÓN III SECCIÓN    GUSTAVO A. MADERO            CDMX   \n",
       "3                       XOTEPINGO             COYOACAN            CDMX   \n",
       "4                             NaN    GUSTAVO A. MADERO            CDMX   \n",
       "\n",
       "     latitud   longitud  \n",
       "0  19.305532 -99.186308  \n",
       "1  19.429797 -99.098672  \n",
       "2  19.451641 -99.076529  \n",
       "3  19.323245 -99.138016  \n",
       "4        NaN        NaN  \n",
       "\n",
       "[5 rows x 21 columns]"
      ]
     },
     "execution_count": 18,
     "metadata": {},
     "output_type": "execute_result"
    }
   ],
   "source": [
    "#reemplazo valores faltantes por el valor medio de edad\n",
    "datos['edad'].fillna(datos['edad'].mean(), inplace=True)\n",
    "#veo los primero datos\n",
    "datos.head()"
   ]
  },
  {
   "cell_type": "code",
   "execution_count": 19,
   "id": "ae7c6693-5306-4134-ab3d-d7fb3d57a429",
   "metadata": {},
   "outputs": [
    {
     "name": "stdout",
     "output_type": "stream",
     "text": [
      "Datos faltantes en la columna Edad: 0, con media: 38.777495109087795\n"
     ]
    }
   ],
   "source": [
    "#recalculo los faltantes\n",
    "datos_faltantes = datos['edad'].isnull().sum()\n",
    "#recalculo la media\n",
    "media = datos[\"edad\"].mean()\n",
    "#regreso valores recalculados y verifico\n",
    "print(f\"Datos faltantes en la columna Edad: {datos_faltantes}, con media: {media}\")"
   ]
  },
  {
   "cell_type": "markdown",
   "id": "28b003f5-e858-4802-8732-b38241f8c8aa",
   "metadata": {},
   "source": [
    "### b.3) Eliminar columnas que no me aportan información"
   ]
  },
  {
   "cell_type": "code",
   "execution_count": 21,
   "id": "06ad4e75-4ae0-4f22-ac93-fa00def89c0c",
   "metadata": {},
   "outputs": [
    {
     "data": {
      "text/plain": [
       "(192469, 20)"
      ]
     },
     "execution_count": 21,
     "metadata": {},
     "output_type": "execute_result"
    }
   ],
   "source": [
    "#eleimino columna municipio_hechos\n",
    "datos = datos.drop('municipio_hecho', axis=1)\n",
    "datos.shape"
   ]
  },
  {
   "cell_type": "markdown",
   "id": "20e11086",
   "metadata": {},
   "source": [
    "### b.4) Limpiar direcciones (colonia)"
   ]
  },
  {
   "cell_type": "code",
   "execution_count": 31,
   "id": "b52ff8f4-ee6e-4d4f-87cb-36699168e846",
   "metadata": {},
   "outputs": [
    {
     "data": {
      "text/plain": [
       "0                                  LA CRUZ\n",
       "1                       VILLA MILPA ALTA )\n",
       "2                SAN SALVADOR CUAUHTENCO )\n",
       "3                              LOS REYES )\n",
       "4                     LUIS DONALDO COLOSIO\n",
       "                       ...                \n",
       "77187              ARAGON LA VILLA ARAGON)\n",
       "77188                           MORELOS II\n",
       "77189                            MALACATES\n",
       "77190    VERGEL DE COYOACAN-VERGEL DEL SUR\n",
       "77191    VERGEL DE COYOACAN-VERGEL DEL SUR\n",
       "Name: colonia_datos, Length: 77192, dtype: object"
      ]
     },
     "execution_count": 31,
     "metadata": {},
     "output_type": "execute_result"
    }
   ],
   "source": [
    "datos[\"colonia_datos\"]"
   ]
  },
  {
   "cell_type": "code",
   "execution_count": 33,
   "id": "b06b53d8",
   "metadata": {},
   "outputs": [
    {
     "data": {
      "text/plain": [
       "0                                  LA CRUZ\n",
       "1                        VILLA MILPA ALTA \n",
       "2                 SAN SALVADOR CUAUHTENCO \n",
       "3                               LOS REYES \n",
       "4                     LUIS DONALDO COLOSIO\n",
       "                       ...                \n",
       "77187                     ARAGON LA VILLA \n",
       "77188                           MORELOS II\n",
       "77189                            MALACATES\n",
       "77190    VERGEL DE COYOACAN-VERGEL DEL SUR\n",
       "77191    VERGEL DE COYOACAN-VERGEL DEL SUR\n",
       "Name: colonia_datos, Length: 77192, dtype: object"
      ]
     },
     "execution_count": 33,
     "metadata": {},
     "output_type": "execute_result"
    }
   ],
   "source": [
    "#quito el paréntesis y todo lo que tiene dentro para dejar el nombre de la colonia limpio\n",
    "datos[\"colonia_datos\"] = datos[\"colonia_datos\"].replace(r'\\(.*\\)', '', regex=True)\n",
    "#veo los primeros y últimos datos de la columna de colonia_datos\n",
    "datos[\"colonia_datos\"]"
   ]
  },
  {
   "cell_type": "markdown",
   "id": "e2c55040",
   "metadata": {},
   "source": [
    "### b.5) Filtro base de datos para un +unico delito de interés"
   ]
  },
  {
   "cell_type": "code",
   "execution_count": 23,
   "id": "4381e04e",
   "metadata": {},
   "outputs": [
    {
     "data": {
      "text/plain": [
       "7         VIOLENCIA FAMILIAR\n",
       "11        VIOLENCIA FAMILIAR\n",
       "20        VIOLENCIA FAMILIAR\n",
       "31        VIOLENCIA FAMILIAR\n",
       "32        VIOLENCIA FAMILIAR\n",
       "                 ...        \n",
       "194090    VIOLENCIA FAMILIAR\n",
       "194093    VIOLENCIA FAMILIAR\n",
       "194109    VIOLENCIA FAMILIAR\n",
       "194113    VIOLENCIA FAMILIAR\n",
       "194115    VIOLENCIA FAMILIAR\n",
       "Name: delito, Length: 31112, dtype: object"
      ]
     },
     "execution_count": 23,
     "metadata": {},
     "output_type": "execute_result"
    }
   ],
   "source": [
    "datos = datos[datos['delito'] == 'VIOLENCIA FAMILIAR']\n",
    "datos[\"delito\"]"
   ]
  },
  {
   "cell_type": "markdown",
   "id": "c8671c6c",
   "metadata": {},
   "source": [
    "### b.6) Exporta la base de datos que acabamos de manipular a tu computadora"
   ]
  },
  {
   "cell_type": "code",
   "execution_count": null,
   "id": "3a73a4fd",
   "metadata": {},
   "outputs": [],
   "source": [
    "# Especificar la ruta y nombre del archivo CSV\n",
    "ruta_archivo_csv = 'ruta/del/archivo/nombre_archivo.csv'\n",
    "#asegúrate de cambiar la ruta de donde quieres se almacene el archivo"
   ]
  },
  {
   "cell_type": "code",
   "execution_count": null,
   "id": "0d5a638d",
   "metadata": {},
   "outputs": [],
   "source": [
    "datos.to_csv(ruta_archivo_csv, index=False)"
   ]
  }
 ],
 "metadata": {
  "kernelspec": {
   "display_name": "Python 3 (ipykernel)",
   "language": "python",
   "name": "python3"
  },
  "language_info": {
   "codemirror_mode": {
    "name": "ipython",
    "version": 3
   },
   "file_extension": ".py",
   "mimetype": "text/x-python",
   "name": "python",
   "nbconvert_exporter": "python",
   "pygments_lexer": "ipython3",
   "version": "3.11.5"
  }
 },
 "nbformat": 4,
 "nbformat_minor": 5
}
