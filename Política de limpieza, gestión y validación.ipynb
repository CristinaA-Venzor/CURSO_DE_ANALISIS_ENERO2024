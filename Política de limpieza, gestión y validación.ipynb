{
 "cells": [
  {
   "cell_type": "markdown",
   "id": "01a41c81-f0cc-48a8-bdec-ee94e34cdb2d",
   "metadata": {},
   "source": [
    "# Política de limpieza, gestión y validación"
   ]
  },
  {
   "cell_type": "markdown",
   "id": "ed7f4dbb-5923-4fbe-9ad6-3aca1cd543f8",
   "metadata": {},
   "source": [
    "## A) Documentación de metadatos"
   ]
  },
  {
   "cell_type": "code",
   "execution_count": null,
   "id": "03d230bb",
   "metadata": {},
   "outputs": [],
   "source": [
    "#Para descargar librería elimine el signo de \"#\" y corra la linea\n",
    "#Esto es necesario sólo la primera vez que se utiliza en esta computadora\n",
    "\n",
    "#pip install pandas"
   ]
  },
  {
   "cell_type": "code",
   "execution_count": null,
   "id": "528e5d9f",
   "metadata": {},
   "outputs": [],
   "source": [
    "#Para descargar librería elimine el signo de \"#\" y corra la linea\n",
    "#Esto es necesario sólo la primera vez que se utiliza en esta computadora\n",
    "\n",
    "#pip install numpy"
   ]
  },
  {
   "cell_type": "code",
   "execution_count": null,
   "id": "ffc13a64",
   "metadata": {},
   "outputs": [],
   "source": [
    "#Para descargar librería elimine el signo de \"#\" y corra la linea\n",
    "#Esto es necesario sólo la primera vez que se utiliza en esta computadora\n",
    "\n",
    "#pip install sweetviz"
   ]
  },
  {
   "cell_type": "code",
   "execution_count": 4,
   "id": "c1ac1438",
   "metadata": {},
   "outputs": [],
   "source": [
    "# cagramos librerías\n",
    "\n",
    "import pandas as pd\n",
    "import numpy as np\n",
    "import sweetviz as sv"
   ]
  },
  {
   "cell_type": "code",
   "execution_count": 32,
   "id": "859c7a72-7169-4e69-a7c3-50c9f28c2f83",
   "metadata": {},
   "outputs": [
    {
     "data": {
      "text/html": [
       "<div>\n",
       "<style scoped>\n",
       "    .dataframe tbody tr th:only-of-type {\n",
       "        vertical-align: middle;\n",
       "    }\n",
       "\n",
       "    .dataframe tbody tr th {\n",
       "        vertical-align: top;\n",
       "    }\n",
       "\n",
       "    .dataframe thead th {\n",
       "        text-align: right;\n",
       "    }\n",
       "</style>\n",
       "<table border=\"1\" class=\"dataframe\">\n",
       "  <thead>\n",
       "    <tr style=\"text-align: right;\">\n",
       "      <th></th>\n",
       "      <th>Unnamed: 0</th>\n",
       "      <th>idCarpeta</th>\n",
       "      <th>Año_inicio</th>\n",
       "      <th>Mes_inicio</th>\n",
       "      <th>FechaInicio</th>\n",
       "      <th>Delito</th>\n",
       "      <th>Categoria</th>\n",
       "      <th>Sexo</th>\n",
       "      <th>Edad</th>\n",
       "      <th>TipoPersona</th>\n",
       "      <th>...</th>\n",
       "      <th>Mes_hecho</th>\n",
       "      <th>FechaHecho</th>\n",
       "      <th>HoraHecho</th>\n",
       "      <th>HoraInicio</th>\n",
       "      <th>alcaldia_hechos</th>\n",
       "      <th>municipio_hechos</th>\n",
       "      <th>colonia_datos</th>\n",
       "      <th>fgj_colonia_registro</th>\n",
       "      <th>latitud</th>\n",
       "      <th>longitud</th>\n",
       "    </tr>\n",
       "  </thead>\n",
       "  <tbody>\n",
       "    <tr>\n",
       "      <th>0</th>\n",
       "      <td>1</td>\n",
       "      <td>8828667</td>\n",
       "      <td>2021</td>\n",
       "      <td>Enero</td>\n",
       "      <td>2021-01-01</td>\n",
       "      <td>VIOLENCIA FAMILIAR</td>\n",
       "      <td>DELITO DE BAJO IMPACTO</td>\n",
       "      <td>Femenino</td>\n",
       "      <td>59.0</td>\n",
       "      <td>FISICA</td>\n",
       "      <td>...</td>\n",
       "      <td>Diciembre</td>\n",
       "      <td>2020-12-31</td>\n",
       "      <td>22:00:00</td>\n",
       "      <td>00:02:21</td>\n",
       "      <td>LA MAGDALENA CONTRERAS</td>\n",
       "      <td>NaN</td>\n",
       "      <td>LA CRUZ</td>\n",
       "      <td>LA CRUZ</td>\n",
       "      <td>19.309708</td>\n",
       "      <td>-99.234309</td>\n",
       "    </tr>\n",
       "    <tr>\n",
       "      <th>1</th>\n",
       "      <td>2</td>\n",
       "      <td>8828674</td>\n",
       "      <td>2021</td>\n",
       "      <td>Enero</td>\n",
       "      <td>2021-01-01</td>\n",
       "      <td>VIOLENCIA FAMILIAR</td>\n",
       "      <td>DELITO DE BAJO IMPACTO</td>\n",
       "      <td>Femenino</td>\n",
       "      <td>NaN</td>\n",
       "      <td>FISICA</td>\n",
       "      <td>...</td>\n",
       "      <td>Enero</td>\n",
       "      <td>2021-01-01</td>\n",
       "      <td>00:15:00</td>\n",
       "      <td>00:57:55</td>\n",
       "      <td>MILPA ALTA</td>\n",
       "      <td>NaN</td>\n",
       "      <td>VILLA MILPA ALTA (PBLO)</td>\n",
       "      <td>SANTA MARTHA (VILLA MILPA ALTA)</td>\n",
       "      <td>19.198153</td>\n",
       "      <td>-99.026277</td>\n",
       "    </tr>\n",
       "    <tr>\n",
       "      <th>2</th>\n",
       "      <td>3</td>\n",
       "      <td>8828679</td>\n",
       "      <td>2021</td>\n",
       "      <td>Enero</td>\n",
       "      <td>2021-01-01</td>\n",
       "      <td>VIOLENCIA FAMILIAR</td>\n",
       "      <td>DELITO DE BAJO IMPACTO</td>\n",
       "      <td>Femenino</td>\n",
       "      <td>31.0</td>\n",
       "      <td>FISICA</td>\n",
       "      <td>...</td>\n",
       "      <td>Enero</td>\n",
       "      <td>2021-01-01</td>\n",
       "      <td>00:55:00</td>\n",
       "      <td>01:28:32</td>\n",
       "      <td>MILPA ALTA</td>\n",
       "      <td>NaN</td>\n",
       "      <td>SAN SALVADOR CUAUHTENCO (PBLO)</td>\n",
       "      <td>SAN SALVADOR CUAUHTENCO SECCION III</td>\n",
       "      <td>19.193027</td>\n",
       "      <td>-99.095006</td>\n",
       "    </tr>\n",
       "    <tr>\n",
       "      <th>3</th>\n",
       "      <td>4</td>\n",
       "      <td>8828694</td>\n",
       "      <td>2021</td>\n",
       "      <td>Enero</td>\n",
       "      <td>2021-01-01</td>\n",
       "      <td>VIOLENCIA FAMILIAR</td>\n",
       "      <td>DELITO DE BAJO IMPACTO</td>\n",
       "      <td>Femenino</td>\n",
       "      <td>44.0</td>\n",
       "      <td>FISICA</td>\n",
       "      <td>...</td>\n",
       "      <td>Enero</td>\n",
       "      <td>2021-01-01</td>\n",
       "      <td>01:45:00</td>\n",
       "      <td>06:03:38</td>\n",
       "      <td>COYOACAN</td>\n",
       "      <td>NaN</td>\n",
       "      <td>LOS REYES (PBLO)</td>\n",
       "      <td>PUEBLO DE LOS REYES</td>\n",
       "      <td>19.336963</td>\n",
       "      <td>-99.152265</td>\n",
       "    </tr>\n",
       "    <tr>\n",
       "      <th>4</th>\n",
       "      <td>5</td>\n",
       "      <td>8828698</td>\n",
       "      <td>2021</td>\n",
       "      <td>Enero</td>\n",
       "      <td>2021-01-01</td>\n",
       "      <td>VIOLENCIA FAMILIAR</td>\n",
       "      <td>DELITO DE BAJO IMPACTO</td>\n",
       "      <td>Femenino</td>\n",
       "      <td>27.0</td>\n",
       "      <td>FISICA</td>\n",
       "      <td>...</td>\n",
       "      <td>Enero</td>\n",
       "      <td>2021-01-01</td>\n",
       "      <td>06:00:00</td>\n",
       "      <td>07:27:16</td>\n",
       "      <td>GUSTAVO A. MADERO</td>\n",
       "      <td>NaN</td>\n",
       "      <td>LUIS DONALDO COLOSIO</td>\n",
       "      <td>LUIS DONALDO COLOSIO</td>\n",
       "      <td>19.561525</td>\n",
       "      <td>-99.146590</td>\n",
       "    </tr>\n",
       "  </tbody>\n",
       "</table>\n",
       "<p>5 rows × 23 columns</p>\n",
       "</div>"
      ],
      "text/plain": [
       "   Unnamed: 0  idCarpeta  Año_inicio Mes_inicio FechaInicio  \\\n",
       "0           1    8828667        2021      Enero  2021-01-01   \n",
       "1           2    8828674        2021      Enero  2021-01-01   \n",
       "2           3    8828679        2021      Enero  2021-01-01   \n",
       "3           4    8828694        2021      Enero  2021-01-01   \n",
       "4           5    8828698        2021      Enero  2021-01-01   \n",
       "\n",
       "               Delito               Categoria      Sexo  Edad TipoPersona  \\\n",
       "0  VIOLENCIA FAMILIAR  DELITO DE BAJO IMPACTO  Femenino  59.0      FISICA   \n",
       "1  VIOLENCIA FAMILIAR  DELITO DE BAJO IMPACTO  Femenino   NaN      FISICA   \n",
       "2  VIOLENCIA FAMILIAR  DELITO DE BAJO IMPACTO  Femenino  31.0      FISICA   \n",
       "3  VIOLENCIA FAMILIAR  DELITO DE BAJO IMPACTO  Femenino  44.0      FISICA   \n",
       "4  VIOLENCIA FAMILIAR  DELITO DE BAJO IMPACTO  Femenino  27.0      FISICA   \n",
       "\n",
       "   ...  Mes_hecho  FechaHecho  HoraHecho HoraInicio         alcaldia_hechos  \\\n",
       "0  ...  Diciembre  2020-12-31   22:00:00   00:02:21  LA MAGDALENA CONTRERAS   \n",
       "1  ...      Enero  2021-01-01   00:15:00   00:57:55              MILPA ALTA   \n",
       "2  ...      Enero  2021-01-01   00:55:00   01:28:32              MILPA ALTA   \n",
       "3  ...      Enero  2021-01-01   01:45:00   06:03:38                COYOACAN   \n",
       "4  ...      Enero  2021-01-01   06:00:00   07:27:16       GUSTAVO A. MADERO   \n",
       "\n",
       "  municipio_hechos                   colonia_datos  \\\n",
       "0              NaN                         LA CRUZ   \n",
       "1              NaN         VILLA MILPA ALTA (PBLO)   \n",
       "2              NaN  SAN SALVADOR CUAUHTENCO (PBLO)   \n",
       "3              NaN                LOS REYES (PBLO)   \n",
       "4              NaN            LUIS DONALDO COLOSIO   \n",
       "\n",
       "                  fgj_colonia_registro    latitud   longitud  \n",
       "0                              LA CRUZ  19.309708 -99.234309  \n",
       "1      SANTA MARTHA (VILLA MILPA ALTA)  19.198153 -99.026277  \n",
       "2  SAN SALVADOR CUAUHTENCO SECCION III  19.193027 -99.095006  \n",
       "3                  PUEBLO DE LOS REYES  19.336963 -99.152265  \n",
       "4                 LUIS DONALDO COLOSIO  19.561525 -99.146590  \n",
       "\n",
       "[5 rows x 23 columns]"
      ]
     },
     "execution_count": 32,
     "metadata": {},
     "output_type": "execute_result"
    }
   ],
   "source": [
    "#Cargo base de datos desde el repositorio\n",
    "datos = pd.read_csv(\"https://raw.githubusercontent.com/CristinaA-Venzor/CURSO_BASE_ANALISIS_CRIMINAL/main/Bases%20de%20datos/FGJ.csv\")\n",
    "#Muestro las 5 primeras filas\n",
    "datos.head()"
   ]
  },
  {
   "cell_type": "code",
   "execution_count": 6,
   "id": "d6acd982",
   "metadata": {},
   "outputs": [
    {
     "data": {
      "application/vnd.jupyter.widget-view+json": {
       "model_id": "e6f900fdd0f64d4e8865deacc9ac709d",
       "version_major": 2,
       "version_minor": 0
      },
      "text/plain": [
       "                                             |      | [  0%]   00:00 -> (? left)"
      ]
     },
     "metadata": {},
     "output_type": "display_data"
    }
   ],
   "source": [
    "#Genero el reporte de metadatos\n",
    "analyze_report = sv.analyze(datos)"
   ]
  },
  {
   "cell_type": "code",
   "execution_count": 20,
   "id": "e671f7b0",
   "metadata": {},
   "outputs": [
    {
     "name": "stdout",
     "output_type": "stream",
     "text": [
      "Report report.html was generated! NOTEBOOK/COLAB USERS: the web browser MAY not pop up, regardless, the report IS saved in your notebook/colab files.\n"
     ]
    }
   ],
   "source": [
    "#Visualizamos el archivo .htlm que nos genera el reporte\n",
    "#puedes revisar en la carpeta de tu computadora que ese archivo está guardado\n",
    "analyze_report.show_html('report.html', open_browser=True)"
   ]
  },
  {
   "cell_type": "code",
   "execution_count": 55,
   "id": "71247e0c-4810-47b1-82f6-12a313fe49e5",
   "metadata": {},
   "outputs": [
    {
     "data": {
      "text/plain": [
       "(77192, 23)"
      ]
     },
     "execution_count": 55,
     "metadata": {},
     "output_type": "execute_result"
    }
   ],
   "source": [
    "#revisamos dimensiones de la base de datos\n",
    "datos.shape"
   ]
  },
  {
   "cell_type": "markdown",
   "id": "06f3376c",
   "metadata": {},
   "source": [
    "## Ejercicio de metadatos\n",
    "\n",
    "Responde las siguientes preguntas en un documento de word con base en los metadatos generados\n",
    "\n",
    "1) ¿Cuál es la columna con más información faltante?\n",
    "2) ¿Cuál es la columna que nos permite identificar cada incidencia? ¿Hay valores repetidos?\n",
    "3) ¿En qué alcaldía se cometieron más delitos? ¿Qué columna nos ayuda a idnetificar esto? ¿Por qué?\n",
    "4) ¿Qué otra información valiosa nos aportan los meta-datos?"
   ]
  },
  {
   "cell_type": "markdown",
   "id": "bc2cfd62",
   "metadata": {},
   "source": [
    "## b) Limpieza de datos"
   ]
  },
  {
   "cell_type": "markdown",
   "id": "356f4d3f-4710-42bc-b3ef-e63d3a8a125d",
   "metadata": {},
   "source": [
    "### b.1) Imputación de datos\n",
    "\n",
    "La aparición de datos faltantes es un problema común en la mayoría de\n",
    "las encuestas llevadas a cabo en distintos ámbitos. El método más sencillo de imputación de datos es establecer el promedio de los valores existentes.\n",
    "\n",
    "Esto se realiza con el siguiente:"
   ]
  },
  {
   "cell_type": "code",
   "execution_count": 15,
   "id": "8038d649-6743-4b60-b80c-0945c44f3074",
   "metadata": {},
   "outputs": [
    {
     "name": "stdout",
     "output_type": "stream",
     "text": [
      "Datos faltantes en la columna Edad: 10616, con media: 38.162010334054315\n"
     ]
    }
   ],
   "source": [
    "#sumo los datos faltantes de la colulma edad\n",
    "datos_faltantes = datos['Edad'].isnull().sum()\n",
    "#calculo el promedio de edad\n",
    "media = datos[\"Edad\"].mean()\n",
    "#devuelo como resultado la suma y la media\n",
    "print(f\"Datos faltantes en la columna Edad: {datos_faltantes}, con media: {media}\")"
   ]
  },
  {
   "cell_type": "code",
   "execution_count": 57,
   "id": "3562afad-fc19-4a05-ae3f-4e025964157b",
   "metadata": {},
   "outputs": [
    {
     "data": {
      "text/html": [
       "<div>\n",
       "<style scoped>\n",
       "    .dataframe tbody tr th:only-of-type {\n",
       "        vertical-align: middle;\n",
       "    }\n",
       "\n",
       "    .dataframe tbody tr th {\n",
       "        vertical-align: top;\n",
       "    }\n",
       "\n",
       "    .dataframe thead th {\n",
       "        text-align: right;\n",
       "    }\n",
       "</style>\n",
       "<table border=\"1\" class=\"dataframe\">\n",
       "  <thead>\n",
       "    <tr style=\"text-align: right;\">\n",
       "      <th></th>\n",
       "      <th>Unnamed: 0</th>\n",
       "      <th>idCarpeta</th>\n",
       "      <th>Año_inicio</th>\n",
       "      <th>Mes_inicio</th>\n",
       "      <th>FechaInicio</th>\n",
       "      <th>Delito</th>\n",
       "      <th>Categoria</th>\n",
       "      <th>Sexo</th>\n",
       "      <th>Edad</th>\n",
       "      <th>TipoPersona</th>\n",
       "      <th>...</th>\n",
       "      <th>Mes_hecho</th>\n",
       "      <th>FechaHecho</th>\n",
       "      <th>HoraHecho</th>\n",
       "      <th>HoraInicio</th>\n",
       "      <th>alcaldia_hechos</th>\n",
       "      <th>municipio_hechos</th>\n",
       "      <th>colonia_datos</th>\n",
       "      <th>fgj_colonia_registro</th>\n",
       "      <th>latitud</th>\n",
       "      <th>longitud</th>\n",
       "    </tr>\n",
       "  </thead>\n",
       "  <tbody>\n",
       "    <tr>\n",
       "      <th>0</th>\n",
       "      <td>1</td>\n",
       "      <td>8828667</td>\n",
       "      <td>2021</td>\n",
       "      <td>Enero</td>\n",
       "      <td>2021-01-01</td>\n",
       "      <td>VIOLENCIA FAMILIAR</td>\n",
       "      <td>DELITO DE BAJO IMPACTO</td>\n",
       "      <td>Femenino</td>\n",
       "      <td>59.00000</td>\n",
       "      <td>FISICA</td>\n",
       "      <td>...</td>\n",
       "      <td>Diciembre</td>\n",
       "      <td>2020-12-31</td>\n",
       "      <td>22:00:00</td>\n",
       "      <td>00:02:21</td>\n",
       "      <td>LA MAGDALENA CONTRERAS</td>\n",
       "      <td>NaN</td>\n",
       "      <td>LA CRUZ</td>\n",
       "      <td>LA CRUZ</td>\n",
       "      <td>19.309708</td>\n",
       "      <td>-99.234309</td>\n",
       "    </tr>\n",
       "    <tr>\n",
       "      <th>1</th>\n",
       "      <td>2</td>\n",
       "      <td>8828674</td>\n",
       "      <td>2021</td>\n",
       "      <td>Enero</td>\n",
       "      <td>2021-01-01</td>\n",
       "      <td>VIOLENCIA FAMILIAR</td>\n",
       "      <td>DELITO DE BAJO IMPACTO</td>\n",
       "      <td>Femenino</td>\n",
       "      <td>38.16201</td>\n",
       "      <td>FISICA</td>\n",
       "      <td>...</td>\n",
       "      <td>Enero</td>\n",
       "      <td>2021-01-01</td>\n",
       "      <td>00:15:00</td>\n",
       "      <td>00:57:55</td>\n",
       "      <td>MILPA ALTA</td>\n",
       "      <td>NaN</td>\n",
       "      <td>VILLA MILPA ALTA (PBLO)</td>\n",
       "      <td>SANTA MARTHA (VILLA MILPA ALTA)</td>\n",
       "      <td>19.198153</td>\n",
       "      <td>-99.026277</td>\n",
       "    </tr>\n",
       "    <tr>\n",
       "      <th>2</th>\n",
       "      <td>3</td>\n",
       "      <td>8828679</td>\n",
       "      <td>2021</td>\n",
       "      <td>Enero</td>\n",
       "      <td>2021-01-01</td>\n",
       "      <td>VIOLENCIA FAMILIAR</td>\n",
       "      <td>DELITO DE BAJO IMPACTO</td>\n",
       "      <td>Femenino</td>\n",
       "      <td>31.00000</td>\n",
       "      <td>FISICA</td>\n",
       "      <td>...</td>\n",
       "      <td>Enero</td>\n",
       "      <td>2021-01-01</td>\n",
       "      <td>00:55:00</td>\n",
       "      <td>01:28:32</td>\n",
       "      <td>MILPA ALTA</td>\n",
       "      <td>NaN</td>\n",
       "      <td>SAN SALVADOR CUAUHTENCO (PBLO)</td>\n",
       "      <td>SAN SALVADOR CUAUHTENCO SECCION III</td>\n",
       "      <td>19.193027</td>\n",
       "      <td>-99.095006</td>\n",
       "    </tr>\n",
       "    <tr>\n",
       "      <th>3</th>\n",
       "      <td>4</td>\n",
       "      <td>8828694</td>\n",
       "      <td>2021</td>\n",
       "      <td>Enero</td>\n",
       "      <td>2021-01-01</td>\n",
       "      <td>VIOLENCIA FAMILIAR</td>\n",
       "      <td>DELITO DE BAJO IMPACTO</td>\n",
       "      <td>Femenino</td>\n",
       "      <td>44.00000</td>\n",
       "      <td>FISICA</td>\n",
       "      <td>...</td>\n",
       "      <td>Enero</td>\n",
       "      <td>2021-01-01</td>\n",
       "      <td>01:45:00</td>\n",
       "      <td>06:03:38</td>\n",
       "      <td>COYOACAN</td>\n",
       "      <td>NaN</td>\n",
       "      <td>LOS REYES (PBLO)</td>\n",
       "      <td>PUEBLO DE LOS REYES</td>\n",
       "      <td>19.336963</td>\n",
       "      <td>-99.152265</td>\n",
       "    </tr>\n",
       "    <tr>\n",
       "      <th>4</th>\n",
       "      <td>5</td>\n",
       "      <td>8828698</td>\n",
       "      <td>2021</td>\n",
       "      <td>Enero</td>\n",
       "      <td>2021-01-01</td>\n",
       "      <td>VIOLENCIA FAMILIAR</td>\n",
       "      <td>DELITO DE BAJO IMPACTO</td>\n",
       "      <td>Femenino</td>\n",
       "      <td>27.00000</td>\n",
       "      <td>FISICA</td>\n",
       "      <td>...</td>\n",
       "      <td>Enero</td>\n",
       "      <td>2021-01-01</td>\n",
       "      <td>06:00:00</td>\n",
       "      <td>07:27:16</td>\n",
       "      <td>GUSTAVO A. MADERO</td>\n",
       "      <td>NaN</td>\n",
       "      <td>LUIS DONALDO COLOSIO</td>\n",
       "      <td>LUIS DONALDO COLOSIO</td>\n",
       "      <td>19.561525</td>\n",
       "      <td>-99.146590</td>\n",
       "    </tr>\n",
       "  </tbody>\n",
       "</table>\n",
       "<p>5 rows × 23 columns</p>\n",
       "</div>"
      ],
      "text/plain": [
       "   Unnamed: 0  idCarpeta  Año_inicio Mes_inicio FechaInicio  \\\n",
       "0           1    8828667        2021      Enero  2021-01-01   \n",
       "1           2    8828674        2021      Enero  2021-01-01   \n",
       "2           3    8828679        2021      Enero  2021-01-01   \n",
       "3           4    8828694        2021      Enero  2021-01-01   \n",
       "4           5    8828698        2021      Enero  2021-01-01   \n",
       "\n",
       "               Delito               Categoria      Sexo      Edad TipoPersona  \\\n",
       "0  VIOLENCIA FAMILIAR  DELITO DE BAJO IMPACTO  Femenino  59.00000      FISICA   \n",
       "1  VIOLENCIA FAMILIAR  DELITO DE BAJO IMPACTO  Femenino  38.16201      FISICA   \n",
       "2  VIOLENCIA FAMILIAR  DELITO DE BAJO IMPACTO  Femenino  31.00000      FISICA   \n",
       "3  VIOLENCIA FAMILIAR  DELITO DE BAJO IMPACTO  Femenino  44.00000      FISICA   \n",
       "4  VIOLENCIA FAMILIAR  DELITO DE BAJO IMPACTO  Femenino  27.00000      FISICA   \n",
       "\n",
       "   ...  Mes_hecho  FechaHecho  HoraHecho HoraInicio         alcaldia_hechos  \\\n",
       "0  ...  Diciembre  2020-12-31   22:00:00   00:02:21  LA MAGDALENA CONTRERAS   \n",
       "1  ...      Enero  2021-01-01   00:15:00   00:57:55              MILPA ALTA   \n",
       "2  ...      Enero  2021-01-01   00:55:00   01:28:32              MILPA ALTA   \n",
       "3  ...      Enero  2021-01-01   01:45:00   06:03:38                COYOACAN   \n",
       "4  ...      Enero  2021-01-01   06:00:00   07:27:16       GUSTAVO A. MADERO   \n",
       "\n",
       "  municipio_hechos                   colonia_datos  \\\n",
       "0              NaN                         LA CRUZ   \n",
       "1              NaN         VILLA MILPA ALTA (PBLO)   \n",
       "2              NaN  SAN SALVADOR CUAUHTENCO (PBLO)   \n",
       "3              NaN                LOS REYES (PBLO)   \n",
       "4              NaN            LUIS DONALDO COLOSIO   \n",
       "\n",
       "                  fgj_colonia_registro    latitud   longitud  \n",
       "0                              LA CRUZ  19.309708 -99.234309  \n",
       "1      SANTA MARTHA (VILLA MILPA ALTA)  19.198153 -99.026277  \n",
       "2  SAN SALVADOR CUAUHTENCO SECCION III  19.193027 -99.095006  \n",
       "3                  PUEBLO DE LOS REYES  19.336963 -99.152265  \n",
       "4                 LUIS DONALDO COLOSIO  19.561525 -99.146590  \n",
       "\n",
       "[5 rows x 23 columns]"
      ]
     },
     "execution_count": 57,
     "metadata": {},
     "output_type": "execute_result"
    }
   ],
   "source": [
    "#reemplazo valores faltantes por el valor medio de edad\n",
    "datos['Edad'].fillna(datos['Edad'].mean(), inplace=True)\n",
    "#veo los primero datos\n",
    "datos.head()"
   ]
  },
  {
   "cell_type": "code",
   "execution_count": 58,
   "id": "ae7c6693-5306-4134-ab3d-d7fb3d57a429",
   "metadata": {},
   "outputs": [
    {
     "name": "stdout",
     "output_type": "stream",
     "text": [
      "Datos faltantes en la columna Edad: 0, con media: 38.16201033405432\n"
     ]
    }
   ],
   "source": [
    "#recalculo los faltantes\n",
    "datos_faltantes = datos['Edad'].isnull().sum()\n",
    "#recalculo la media\n",
    "media = datos[\"Edad\"].mean()\n",
    "#regreso valores recalculados y verifico\n",
    "print(f\"Datos faltantes en la columna Edad: {datos_faltantes}, con media: {media}\")"
   ]
  },
  {
   "cell_type": "markdown",
   "id": "192bbdd2-5b59-408e-97c3-2059efef1a6f",
   "metadata": {},
   "source": [
    "### b.2) Eliminar datos repetidos "
   ]
  },
  {
   "cell_type": "code",
   "execution_count": 59,
   "id": "1c57a58c-d295-4894-98e4-bdca8500ba68",
   "metadata": {},
   "outputs": [
    {
     "data": {
      "text/plain": [
       "(68652, 23)"
      ]
     },
     "execution_count": 59,
     "metadata": {},
     "output_type": "execute_result"
    }
   ],
   "source": [
    "#reviso si hay duplicados con base en idCarpeta, no me quedo con los duplicados\n",
    "datos = datos[~datos['idCarpeta'].duplicated(keep=False)]\n",
    "#Vuelvo a revisar la dimensionalidad de mi base de datos\n",
    "datos.shape"
   ]
  },
  {
   "cell_type": "markdown",
   "id": "28b003f5-e858-4802-8732-b38241f8c8aa",
   "metadata": {},
   "source": [
    "### b.3) Eliminar columnas que no me aportan información"
   ]
  },
  {
   "cell_type": "code",
   "execution_count": 60,
   "id": "06ad4e75-4ae0-4f22-ac93-fa00def89c0c",
   "metadata": {},
   "outputs": [
    {
     "data": {
      "text/plain": [
       "(68652, 22)"
      ]
     },
     "execution_count": 60,
     "metadata": {},
     "output_type": "execute_result"
    }
   ],
   "source": [
    "#eleimino columna municipio_hechos\n",
    "datos = datos.drop('municipio_hechos', axis=1)\n",
    "datos.shape"
   ]
  },
  {
   "cell_type": "markdown",
   "id": "20e11086",
   "metadata": {},
   "source": [
    "### b.4) Limpiar direcciones (colonia)"
   ]
  },
  {
   "cell_type": "code",
   "execution_count": 31,
   "id": "b52ff8f4-ee6e-4d4f-87cb-36699168e846",
   "metadata": {},
   "outputs": [
    {
     "data": {
      "text/plain": [
       "0                                  LA CRUZ\n",
       "1                       VILLA MILPA ALTA )\n",
       "2                SAN SALVADOR CUAUHTENCO )\n",
       "3                              LOS REYES )\n",
       "4                     LUIS DONALDO COLOSIO\n",
       "                       ...                \n",
       "77187              ARAGON LA VILLA ARAGON)\n",
       "77188                           MORELOS II\n",
       "77189                            MALACATES\n",
       "77190    VERGEL DE COYOACAN-VERGEL DEL SUR\n",
       "77191    VERGEL DE COYOACAN-VERGEL DEL SUR\n",
       "Name: colonia_datos, Length: 77192, dtype: object"
      ]
     },
     "execution_count": 31,
     "metadata": {},
     "output_type": "execute_result"
    }
   ],
   "source": [
    "datos[\"colonia_datos\"]"
   ]
  },
  {
   "cell_type": "code",
   "execution_count": 33,
   "id": "b06b53d8",
   "metadata": {},
   "outputs": [
    {
     "data": {
      "text/plain": [
       "0                                  LA CRUZ\n",
       "1                        VILLA MILPA ALTA \n",
       "2                 SAN SALVADOR CUAUHTENCO \n",
       "3                               LOS REYES \n",
       "4                     LUIS DONALDO COLOSIO\n",
       "                       ...                \n",
       "77187                     ARAGON LA VILLA \n",
       "77188                           MORELOS II\n",
       "77189                            MALACATES\n",
       "77190    VERGEL DE COYOACAN-VERGEL DEL SUR\n",
       "77191    VERGEL DE COYOACAN-VERGEL DEL SUR\n",
       "Name: colonia_datos, Length: 77192, dtype: object"
      ]
     },
     "execution_count": 33,
     "metadata": {},
     "output_type": "execute_result"
    }
   ],
   "source": [
    "#quito el paréntesis y todo lo que tiene dentro para dejar el nombre de la colonia limpio\n",
    "datos[\"colonia_datos\"] = datos[\"colonia_datos\"].replace(r'\\(.*\\)', '', regex=True)\n",
    "#veo los primeros y últimos datos de la columna de colonia_datos\n",
    "datos[\"colonia_datos\"]"
   ]
  },
  {
   "cell_type": "markdown",
   "id": "c8671c6c",
   "metadata": {},
   "source": [
    "### b.5) Exporta la base de datos que acabamos de manipular a tu computadora"
   ]
  },
  {
   "cell_type": "code",
   "execution_count": null,
   "id": "3a73a4fd",
   "metadata": {},
   "outputs": [],
   "source": [
    "# Especificar la ruta y nombre del archivo CSV\n",
    "ruta_archivo_csv = 'ruta/del/archivo/nombre_archivo.csv'\n",
    "#asegúrate de cambiar la ruta de donde quieres se almacene el archivo"
   ]
  },
  {
   "cell_type": "code",
   "execution_count": null,
   "id": "0d5a638d",
   "metadata": {},
   "outputs": [],
   "source": [
    "datos.to_csv(ruta_archivo_csv, index=False)"
   ]
  }
 ],
 "metadata": {
  "kernelspec": {
   "display_name": "Python 3 (ipykernel)",
   "language": "python",
   "name": "python3"
  },
  "language_info": {
   "codemirror_mode": {
    "name": "ipython",
    "version": 3
   },
   "file_extension": ".py",
   "mimetype": "text/x-python",
   "name": "python",
   "nbconvert_exporter": "python",
   "pygments_lexer": "ipython3",
   "version": "3.11.5"
  }
 },
 "nbformat": 4,
 "nbformat_minor": 5
}
